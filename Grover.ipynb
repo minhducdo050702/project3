{
 "cells": [
  {
   "cell_type": "code",
   "execution_count": null,
   "id": "a246d5c0-0d91-48e7-a048-0a6c2736daa5",
   "metadata": {},
   "outputs": [],
   "source": [
    "# Importing standard Qiskit libraries\n",
    "from qiskit import QuantumCircuit, transpile\n",
    "from qiskit.tools.jupyter import *\n",
    "from qiskit.visualization import *\n",
    "from ibm_quantum_widgets import *\n",
    "\n",
    "# qiskit-ibmq-provider has been deprecated.\n",
    "# Please see the Migration Guides in https://ibm.biz/provider_migration_guide for more detail.\n",
    "from qiskit_ibm_runtime import QiskitRuntimeService, Sampler, Estimator, Session, Options\n",
    "\n",
    "# Loading your IBM Quantum account(s)\n",
    "service = QiskitRuntimeService(channel=\"ibm_quantum\")"
   ]
  },
  {
   "cell_type": "code",
   "execution_count": null,
   "id": "2e671f78-6ae3-482d-8032-ec241847ae37",
   "metadata": {},
   "outputs": [],
   "source": [
    "# Import necessary libraries\n",
    "from qiskit import QuantumCircuit, Aer, execute\n",
    "from qiskit.quantum_info import Operator\n",
    "import numpy as np\n",
    "from qiskit.visualization import plot_histogram"
   ]
  },
  {
   "cell_type": "code",
   "execution_count": null,
   "id": "29735d27-041d-4d49-8c25-68fb97168507",
   "metadata": {},
   "outputs": [],
   "source": [
    "# Define a phase oracle\n",
    "def phase_oracle(n, indices_to_mark, name='Oracle'):\n",
    "    # Create a quantum circuit on n qubits\n",
    "    qc = QuantumCircuit(n, name=name)\n",
    "    \n",
    "    # Create the identity matrix on n qubits\n",
    "    oracle_matrix = np.identity(2**n)\n",
    "    \n",
    "    # Add the -1 phase to marked elements\n",
    "    for index_to_mark in indices_to_mark:\n",
    "        oracle_matrix[index_to_mark, index_to_mark] = -1\n",
    "\n",
    "    # Convert the matrix (called oracle_matrix) into an operator and add it to the quantum circuit\n",
    "    qc.unitary(Operator(oracle_matrix), range(n))\n",
    "    \n",
    "    return qc\n"
   ]
  },
  {
   "cell_type": "code",
   "execution_count": null,
   "id": "5e18f184-b29e-4536-91c8-a5a05bcf1285",
   "metadata": {},
   "outputs": [],
   "source": [
    "# Define a diffuser\n",
    "def diffuser(n):\n",
    "    # Create a quantum circuit on n qubits\n",
    "    qc = QuantumCircuit(n, name='Diffuser')\n",
    "      \n",
    "    # Apply Hadamard gates to all qubits\n",
    "    qc.h(range(n))\n",
    "    \n",
    "    # Call the phase oracle applied to the zero state\n",
    "    qc.append(phase_oracle(n, [0]), range(n))\n",
    "    \n",
    "    # Apply Hadamard gates to all qubits\n",
    "    qc.h(range(n))\n",
    "     \n",
    "    return qc"
   ]
  },
  {
   "cell_type": "code",
   "execution_count": null,
   "id": "a8fc4399-b0d8-4135-95f6-910cafc9ce22",
   "metadata": {},
   "outputs": [],
   "source": [
    "# Define the Grover algorithm\n",
    "def Grover(n, indices_of_marked_elements):\n",
    "    # Create a quantum circuit on n qubits\n",
    "    qc = QuantumCircuit(n, n)\n",
    "    \n",
    "    # Determine r (number of iterations)\n",
    "    r = int(np.floor(np.pi/4*np.sqrt(2**n/len(indices_of_marked_elements))))\n",
    "    print(f'{n} qubits, basis states {indices_of_marked_elements} marked, {r} rounds')\n",
    "    \n",
    "    # Step 1: Apply Hadamard gates to all qubits\n",
    "    qc.h(range(n))\n",
    "    \n",
    "    # Step 2: Apply r rounds of the phase oracle and the diffuser\n",
    "    for _ in range(r):\n",
    "        qc.append(phase_oracle(n, indices_of_marked_elements), range(n))\n",
    "        qc.append(diffuser(n), range(n))\n",
    "        \n",
    "    # Step 3: Measure all qubits\n",
    "    qc.measure(range(n), range(n))\n",
    "  \n",
    "    return qc"
   ]
  },
  {
   "cell_type": "code",
   "execution_count": null,
   "id": "b5ee16e4-3803-4af8-8eab-68f9e5f47172",
   "metadata": {},
   "outputs": [],
   "source": [
    "# Create a Grover circuit with 6 qubits and marked elements at [1, 42]\n",
    "mycircuit = Grover(6, [1, 42])\n"
   ]
  },
  {
   "cell_type": "code",
   "execution_count": null,
   "id": "9fbddc91-9dc4-4f7e-8567-aec1d34a12d7",
   "metadata": {},
   "outputs": [],
   "source": [
    "# Draw the circuit\n",
    "mycircuit.draw()\n"
   ]
  },
  {
   "cell_type": "code",
   "execution_count": null,
   "id": "333164b1-25bc-424b-b6a6-3187bdccf013",
   "metadata": {},
   "outputs": [],
   "source": [
    "# Choose a simulator backend\n",
    "simulator = Aer.get_backend('qasm_simulator')\n"
   ]
  },
  {
   "cell_type": "code",
   "execution_count": null,
   "id": "9a4ed921-577b-4bcd-b2c3-cd8e1f6b1c27",
   "metadata": {},
   "outputs": [],
   "source": [
    "# Execute the circuit and get the results\n",
    "counts = execute(mycircuit, backend=simulator, shots=1000).result().get_counts(mycircuit)\n"
   ]
  },
  {
   "cell_type": "code",
   "execution_count": null,
   "id": "400d2aa6-1f87-447c-8f2a-874945e053b0",
   "metadata": {},
   "outputs": [],
   "source": [
    "# Plot the histogram of measurement results\n",
    "plot_histogram(counts)"
   ]
  }
 ],
 "metadata": {
  "kernelspec": {
   "display_name": "Python 3 (ipykernel)",
   "language": "python",
   "name": "python3"
  },
  "language_info": {
   "codemirror_mode": {
    "name": "ipython",
    "version": 3
   },
   "file_extension": ".py",
   "mimetype": "text/x-python",
   "name": "python",
   "nbconvert_exporter": "python",
   "pygments_lexer": "ipython3",
   "version": "3.10.8"
  },
  "widgets": {
   "application/vnd.jupyter.widget-state+json": {
    "state": {},
    "version_major": 2,
    "version_minor": 0
   }
  }
 },
 "nbformat": 4,
 "nbformat_minor": 5
}
